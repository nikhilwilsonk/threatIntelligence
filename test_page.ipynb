{
 "cells": [
  {
   "cell_type": "code",
   "execution_count": 27,
   "metadata": {},
   "outputs": [],
   "source": [
    "import os\n",
    "from dotenv import load_dotenv\n",
    "load_dotenv()\n",
    "from urllib.parse import urlparse\n",
    "import requests\n",
    "import logging\n",
    "from typing import List, Dict\n",
    "import base64"
   ]
  },
  {
   "cell_type": "code",
   "execution_count": 17,
   "metadata": {},
   "outputs": [],
   "source": [
    "VIRUSTOTAL_API_KEY = os.getenv('VIRUSTOTAL_API_KEY')\n",
    "SHODAN_API_KEY=os.getenv('SHODAN_API_KEY')\n",
    "logger = logging.getLogger(__name__)"
   ]
  },
  {
   "cell_type": "code",
   "execution_count": null,
   "metadata": {},
   "outputs": [],
   "source": [
    "def collect_virustotal_threats(url:str) -> List[Dict]:\n",
    "    try:\n",
    "        url_encode=base64.urlsafe_b64encode(url.encode()).decode().strip('=')\n",
    "        headers = {\n",
    "            'x-apikey': VIRUSTOTAL_API_KEY\n",
    "        }\n",
    "        url_id = requests.get(\n",
    "            f'https://www.virustotal.com/api/v3/urls/{url_encode}',\n",
    "            headers=headers\n",
    "        ).json()\n",
    "        analysis_response = requests.get(\n",
    "            f'https://www.virustotal.com/api/v3/analyses/{url_id[\"data\"][\"id\"]}',\n",
    "            headers=headers\n",
    "        ).json()\n",
    "        return {\n",
    "            'malicious_count': analysis_response.get('malicious', 0),\n",
    "            'suspicious_count': analysis_response.get('suspicious', 0),\n",
    "            'harmless_count': analysis_response.get('harmless', 0),\n",
    "            'undetected_count': analysis_response.get('undetected', 0)\n",
    "        }\n",
    "    \n",
    "    except Exception as e:\n",
    "        logger.error(f\"VirusTotal Analysis Error: {e}\")\n",
    "        return {'error': str(e)}"
   ]
  },
  {
   "cell_type": "code",
   "execution_count": 16,
   "metadata": {},
   "outputs": [
    {
     "name": "stdout",
     "output_type": "stream",
     "text": [
      "aHR0cHM6Ly9leGFtcGxlLmNvbQ\n",
      "{'data': {'id': '0f115db062b7c0dd030b16878c99dea5c354b49dc37b38eb8846179c7783e9d7', 'type': 'url', 'links': {'self': 'https://www.virustotal.com/api/v3/urls/0f115db062b7c0dd030b16878c99dea5c354b49dc37b38eb8846179c7783e9d7'}, 'attributes': {'last_http_response_content_sha256': 'ea8fac7c65fb589b0d53560f5251f74f9e9b243478dcb6b3ea79b5e36449c8d9', 'url': 'https://example.com/', 'redirection_chain': ['https://example.com/'], 'threat_names': [], 'targeted_brand': {'SafeToOpen': ''}, 'last_http_response_code': 200, 'total_votes': {'harmless': 13, 'malicious': 2}, 'crowdsourced_context': [{'source': 'ArcSight Threat Intelligence', 'timestamp': 1692891969, 'details': \"Contextual Indicators: The domain’s Cisco Umbrella rank is 8898\\n\\nContextual Indicators: The URL is known benign by Check Point's Threat Cloud\\n\\nContextual Indicators: The domain is popular among websites with good reputation\\n\\nContextual Indicators: The domain is popular in the world\\n\\nCreated On: 1995:08:14 04:00:00\\n\\nVirusTotal Link: https://www.virustotal.com/gui/domain/a379a6f6eeafb9a55e378c118034e2751e682fab9f2d30ab13d2125586ce1947/detection\\n\\nClassification Description: Legitimate website which does not serve any malicious purpose.\", 'severity': 'low', 'title': 'Backdoor via XFF – Mysterious Threat Actor Under Radar'}], 'last_analysis_date': 1741160694, 'reputation': 42, 'tld': 'com', 'tags': [], 'last_http_response_headers': {'Accept-Ranges': 'bytes', 'Content-Type': 'text/html', 'ETag': '\"84238dfc8092e5d9c0dac8ef93371a07:1736799080.121134\"', 'Last-Modified': 'Mon, 13 Jan 2025 20:11:20 GMT', 'Vary': 'Accept-Encoding', 'Content-Length': '1256', 'Cache-Control': 'max-age=665', 'Date': 'Wed, 05 Mar 2025 07:44:56 GMT', 'Alt-Svc': 'h3=\":443\"; ma=93600,h3-29=\":443\"; ma=93600,quic=\":443\"; ma=93600; v=\"43\"', 'Connection': 'keep-alive'}, 'last_modification_date': 1741160743, 'outgoing_links': ['https://www.iana.org/domains/example'], 'times_submitted': 11416, 'html_meta': {'viewport': ['width=device-width, initial-scale=1']}, 'last_final_url': 'https://example.com/', 'last_analysis_results': {'Artists Against 419': {'method': 'blacklist', 'engine_name': 'Artists Against 419', 'category': 'harmless', 'result': 'clean'}, 'Acronis': {'method': 'blacklist', 'engine_name': 'Acronis', 'category': 'harmless', 'result': 'clean'}, 'Abusix': {'method': 'blacklist', 'engine_name': 'Abusix', 'category': 'harmless', 'result': 'clean'}, 'ADMINUSLabs': {'method': 'blacklist', 'engine_name': 'ADMINUSLabs', 'category': 'harmless', 'result': 'clean'}, 'Lionic': {'method': 'blacklist', 'engine_name': 'Lionic', 'category': 'harmless', 'result': 'clean'}, 'Criminal IP': {'method': 'blacklist', 'engine_name': 'Criminal IP', 'category': 'harmless', 'result': 'clean'}, 'AILabs (MONITORAPP)': {'method': 'blacklist', 'engine_name': 'AILabs (MONITORAPP)', 'category': 'harmless', 'result': 'clean'}, 'AlienVault': {'method': 'blacklist', 'engine_name': 'AlienVault', 'category': 'harmless', 'result': 'clean'}, 'alphaMountain.ai': {'method': 'blacklist', 'engine_name': 'alphaMountain.ai', 'category': 'harmless', 'result': 'clean'}, 'AlphaSOC': {'method': 'blacklist', 'engine_name': 'AlphaSOC', 'category': 'undetected', 'result': 'unrated'}, 'Antiy-AVL': {'method': 'blacklist', 'engine_name': 'Antiy-AVL', 'category': 'harmless', 'result': 'clean'}, 'ArcSight Threat Intelligence': {'method': 'blacklist', 'engine_name': 'ArcSight Threat Intelligence', 'category': 'undetected', 'result': 'unrated'}, 'AutoShun': {'method': 'blacklist', 'engine_name': 'AutoShun', 'category': 'undetected', 'result': 'unrated'}, 'Axur': {'method': 'blacklist', 'engine_name': 'Axur', 'category': 'undetected', 'result': 'unrated'}, 'benkow.cc': {'method': 'blacklist', 'engine_name': 'benkow.cc', 'category': 'harmless', 'result': 'clean'}, 'Bfore.Ai PreCrime': {'method': 'blacklist', 'engine_name': 'Bfore.Ai PreCrime', 'category': 'undetected', 'result': 'unrated'}, 'BitDefender': {'method': 'blacklist', 'engine_name': 'BitDefender', 'category': 'harmless', 'result': 'clean'}, 'Bkav': {'method': 'blacklist', 'engine_name': 'Bkav', 'category': 'undetected', 'result': 'unrated'}, 'BlockList': {'method': 'blacklist', 'engine_name': 'BlockList', 'category': 'harmless', 'result': 'clean'}, 'Blueliv': {'method': 'blacklist', 'engine_name': 'Blueliv', 'category': 'harmless', 'result': 'clean'}, 'Certego': {'method': 'blacklist', 'engine_name': 'Certego', 'category': 'harmless', 'result': 'clean'}, 'Chong Lua Dao': {'method': 'blacklist', 'engine_name': 'Chong Lua Dao', 'category': 'harmless', 'result': 'clean'}, 'CINS Army': {'method': 'blacklist', 'engine_name': 'CINS Army', 'category': 'harmless', 'result': 'clean'}, 'Snort IP sample list': {'method': 'blacklist', 'engine_name': 'Snort IP sample list', 'category': 'harmless', 'result': 'clean'}, 'Cluster25': {'method': 'blacklist', 'engine_name': 'Cluster25', 'category': 'undetected', 'result': 'unrated'}, 'CMC Threat Intelligence': {'method': 'blacklist', 'engine_name': 'CMC Threat Intelligence', 'category': 'harmless', 'result': 'clean'}, 'Xcitium Verdict Cloud': {'method': 'blacklist', 'engine_name': 'Xcitium Verdict Cloud', 'category': 'harmless', 'result': 'clean'}, 'CRDF': {'method': 'blacklist', 'engine_name': 'CRDF', 'category': 'harmless', 'result': 'clean'}, 'CSIS Security Group': {'method': 'blacklist', 'engine_name': 'CSIS Security Group', 'category': 'undetected', 'result': 'unrated'}, 'Cyan': {'method': 'blacklist', 'engine_name': 'Cyan', 'category': 'undetected', 'result': 'unrated'}, 'Cyble': {'method': 'blacklist', 'engine_name': 'Cyble', 'category': 'harmless', 'result': 'clean'}, 'CyRadar': {'method': 'blacklist', 'engine_name': 'CyRadar', 'category': 'harmless', 'result': 'clean'}, 'desenmascara.me': {'method': 'blacklist', 'engine_name': 'desenmascara.me', 'category': 'harmless', 'result': 'clean'}, 'DNS8': {'method': 'blacklist', 'engine_name': 'DNS8', 'category': 'harmless', 'result': 'clean'}, 'Dr.Web': {'method': 'blacklist', 'engine_name': 'Dr.Web', 'category': 'harmless', 'result': 'clean'}, 'Emsisoft': {'method': 'blacklist', 'engine_name': 'Emsisoft', 'category': 'harmless', 'result': 'clean'}, 'Ermes': {'method': 'blacklist', 'engine_name': 'Ermes', 'category': 'undetected', 'result': 'unrated'}, 'ESET': {'method': 'blacklist', 'engine_name': 'ESET', 'category': 'harmless', 'result': 'clean'}, 'ESTsecurity': {'method': 'blacklist', 'engine_name': 'ESTsecurity', 'category': 'harmless', 'result': 'clean'}, 'EmergingThreats': {'method': 'blacklist', 'engine_name': 'EmergingThreats', 'category': 'harmless', 'result': 'clean'}, 'Feodo Tracker': {'method': 'blacklist', 'engine_name': 'Feodo Tracker', 'category': 'harmless', 'result': 'clean'}, 'Fortinet': {'method': 'blacklist', 'engine_name': 'Fortinet', 'category': 'harmless', 'result': 'clean'}, 'G-Data': {'method': 'blacklist', 'engine_name': 'G-Data', 'category': 'harmless', 'result': 'clean'}, 'Google Safebrowsing': {'method': 'blacklist', 'engine_name': 'Google Safebrowsing', 'category': 'harmless', 'result': 'clean'}, 'GCP Abuse Intelligence': {'method': 'blacklist', 'engine_name': 'GCP Abuse Intelligence', 'category': 'undetected', 'result': 'unrated'}, 'GreenSnow': {'method': 'blacklist', 'engine_name': 'GreenSnow', 'category': 'harmless', 'result': 'clean'}, 'Gridinsoft': {'method': 'blacklist', 'engine_name': 'Gridinsoft', 'category': 'undetected', 'result': 'unrated'}, 'Heimdal Security': {'method': 'blacklist', 'engine_name': 'Heimdal Security', 'category': 'harmless', 'result': 'clean'}, 'Hunt.io Intelligence': {'method': 'blacklist', 'engine_name': 'Hunt.io Intelligence', 'category': 'undetected', 'result': 'unrated'}, 'IPsum': {'method': 'blacklist', 'engine_name': 'IPsum', 'category': 'harmless', 'result': 'clean'}, 'Juniper Networks': {'method': 'blacklist', 'engine_name': 'Juniper Networks', 'category': 'harmless', 'result': 'clean'}, 'Kaspersky': {'method': 'blacklist', 'engine_name': 'Kaspersky', 'category': 'harmless', 'result': 'clean'}, 'Lumu': {'method': 'blacklist', 'engine_name': 'Lumu', 'category': 'undetected', 'result': 'unrated'}, 'Malwared': {'method': 'blacklist', 'engine_name': 'Malwared', 'category': 'harmless', 'result': 'clean'}, 'MalwareURL': {'method': 'blacklist', 'engine_name': 'MalwareURL', 'category': 'undetected', 'result': 'unrated'}, 'MalwarePatrol': {'method': 'blacklist', 'engine_name': 'MalwarePatrol', 'category': 'harmless', 'result': 'clean'}, 'malwares.com URL checker': {'method': 'blacklist', 'engine_name': 'malwares.com URL checker', 'category': 'harmless', 'result': 'clean'}, 'Netcraft': {'method': 'blacklist', 'engine_name': 'Netcraft', 'category': 'undetected', 'result': 'unrated'}, 'OpenPhish': {'method': 'blacklist', 'engine_name': 'OpenPhish', 'category': 'harmless', 'result': 'clean'}, '0xSI_f33d': {'method': 'blacklist', 'engine_name': '0xSI_f33d', 'category': 'undetected', 'result': 'unrated'}, 'Phishing Database': {'method': 'blacklist', 'engine_name': 'Phishing Database', 'category': 'harmless', 'result': 'clean'}, 'PhishFort': {'method': 'blacklist', 'engine_name': 'PhishFort', 'category': 'undetected', 'result': 'unrated'}, 'PhishLabs': {'method': 'blacklist', 'engine_name': 'PhishLabs', 'category': 'undetected', 'result': 'unrated'}, 'Phishtank': {'method': 'blacklist', 'engine_name': 'Phishtank', 'category': 'harmless', 'result': 'clean'}, 'PREBYTES': {'method': 'blacklist', 'engine_name': 'PREBYTES', 'category': 'harmless', 'result': 'clean'}, 'PrecisionSec': {'method': 'blacklist', 'engine_name': 'PrecisionSec', 'category': 'undetected', 'result': 'unrated'}, 'Quick Heal': {'method': 'blacklist', 'engine_name': 'Quick Heal', 'category': 'harmless', 'result': 'clean'}, 'Quttera': {'method': 'blacklist', 'engine_name': 'Quttera', 'category': 'harmless', 'result': 'clean'}, 'Rising': {'method': 'blacklist', 'engine_name': 'Rising', 'category': 'harmless', 'result': 'clean'}, 'SafeToOpen': {'method': 'blacklist', 'engine_name': 'SafeToOpen', 'category': 'undetected', 'result': 'unrated'}, 'Sangfor': {'method': 'blacklist', 'engine_name': 'Sangfor', 'category': 'harmless', 'result': 'clean'}, 'Sansec eComscan': {'method': 'blacklist', 'engine_name': 'Sansec eComscan', 'category': 'undetected', 'result': 'unrated'}, 'Scantitan': {'method': 'blacklist', 'engine_name': 'Scantitan', 'category': 'harmless', 'result': 'clean'}, 'SCUMWARE.org': {'method': 'blacklist', 'engine_name': 'SCUMWARE.org', 'category': 'harmless', 'result': 'clean'}, 'Seclookup': {'method': 'blacklist', 'engine_name': 'Seclookup', 'category': 'harmless', 'result': 'clean'}, 'SOCRadar': {'method': 'blacklist', 'engine_name': 'SOCRadar', 'category': 'harmless', 'result': 'clean'}, 'Sophos': {'method': 'blacklist', 'engine_name': 'Sophos', 'category': 'harmless', 'result': 'clean'}, 'Spam404': {'method': 'blacklist', 'engine_name': 'Spam404', 'category': 'harmless', 'result': 'clean'}, 'StopForumSpam': {'method': 'blacklist', 'engine_name': 'StopForumSpam', 'category': 'harmless', 'result': 'clean'}, 'Sucuri SiteCheck': {'method': 'blacklist', 'engine_name': 'Sucuri SiteCheck', 'category': 'harmless', 'result': 'clean'}, 'securolytics': {'method': 'blacklist', 'engine_name': 'securolytics', 'category': 'harmless', 'result': 'clean'}, 'Threatsourcing': {'method': 'blacklist', 'engine_name': 'Threatsourcing', 'category': 'harmless', 'result': 'clean'}, 'ThreatHive': {'method': 'blacklist', 'engine_name': 'ThreatHive', 'category': 'harmless', 'result': 'clean'}, 'Trustwave': {'method': 'blacklist', 'engine_name': 'Trustwave', 'category': 'harmless', 'result': 'clean'}, 'Underworld': {'method': 'blacklist', 'engine_name': 'Underworld', 'category': 'undetected', 'result': 'unrated'}, 'URLhaus': {'method': 'blacklist', 'engine_name': 'URLhaus', 'category': 'harmless', 'result': 'clean'}, 'URLQuery': {'method': 'blacklist', 'engine_name': 'URLQuery', 'category': 'harmless', 'result': 'clean'}, 'Viettel Threat Intelligence': {'method': 'blacklist', 'engine_name': 'Viettel Threat Intelligence', 'category': 'harmless', 'result': 'clean'}, 'VIPRE': {'method': 'blacklist', 'engine_name': 'VIPRE', 'category': 'undetected', 'result': 'unrated'}, 'ViriBack': {'method': 'blacklist', 'engine_name': 'ViriBack', 'category': 'harmless', 'result': 'clean'}, 'VX Vault': {'method': 'blacklist', 'engine_name': 'VX Vault', 'category': 'harmless', 'result': 'clean'}, 'Webroot': {'method': 'blacklist', 'engine_name': 'Webroot', 'category': 'harmless', 'result': 'clean'}, 'Forcepoint ThreatSeeker': {'method': 'blacklist', 'engine_name': 'Forcepoint ThreatSeeker', 'category': 'harmless', 'result': 'clean'}, 'Yandex Safebrowsing': {'method': 'blacklist', 'engine_name': 'Yandex Safebrowsing', 'category': 'harmless', 'result': 'clean'}, 'ZeroCERT': {'method': 'blacklist', 'engine_name': 'ZeroCERT', 'category': 'harmless', 'result': 'clean'}, 'ZeroFox': {'method': 'blacklist', 'engine_name': 'ZeroFox', 'category': 'undetected', 'result': 'unrated'}}, 'last_http_response_content_length': 1256, 'last_submission_date': 1741160694, 'categories': {'alphaMountain.ai': 'Information Technology, Parked Site (alphaMountain.ai)', 'BitDefender': 'computersandsoftware', 'Sophos': 'information technology', 'Forcepoint ThreatSeeker': 'information technology'}, 'title': 'Example Domain', 'last_analysis_stats': {'malicious': 0, 'suspicious': 0, 'undetected': 25, 'harmless': 71, 'timeout': 0}, 'first_submission_date': 1334845943}}}\n"
     ]
    },
    {
     "data": {
      "text/plain": [
       "{'malicious_count': 0,\n",
       " 'suspicious_count': 0,\n",
       " 'harmless_count': 0,\n",
       " 'undetected_count': 0}"
      ]
     },
     "execution_count": 16,
     "metadata": {},
     "output_type": "execute_result"
    }
   ],
   "source": [
    "collect_virustotal_threats(\"https://example.com\")"
   ]
  },
  {
   "cell_type": "code",
   "execution_count": null,
   "metadata": {},
   "outputs": [],
   "source": [
    "def shodan_host_analysis(domain: str) -> List[Dict]:\n",
    "    try:\n",
    "        host_info_response = requests.get(\n",
    "            f'https://api.shodan.io/dns/resolve',\n",
    "            params={\n",
    "                'key': SHODAN_API_KEY,\n",
    "                'hostnames': domain\n",
    "            }\n",
    "        )\n",
    "        if host_info_response.status_code == 200:\n",
    "            ip = list(host_info_response.json().values())[0]\n",
    "            host_details_response = requests.get(\n",
    "                f'https://api.shodan.io/shodan/host/{ip}',\n",
    "                params={'key': SHODAN_API_KEY}\n",
    "            )\n",
    "            if host_details_response.status_code == 200:\n",
    "                host_data = host_details_response.json()\n",
    "                \n",
    "                return {\n",
    "                    'ip': ip,\n",
    "                    'total_ports_open': len(host_data.get('ports', [])),\n",
    "                    'vulnerable_services': [\n",
    "                        service for service in host_data.get('data', []) \n",
    "                        if 'vulners' in str(service).lower()\n",
    "                    ],\n",
    "                    'country': host_data.get('country_name', 'Unknown'),\n",
    "                    'organization': host_data.get('org', 'Unknown'),\n",
    "                    'last_update': host_data.get('last_update', 'Unknown')\n",
    "                }\n",
    "        \n",
    "        return {\n",
    "            'error': 'Unable to resolve host or retrieve Shodan information'\n",
    "        }\n",
    "    \n",
    "    except Exception as e:\n",
    "        logger.error(f\"Shodan Analysis Error: {e}\")\n",
    "        return {'error': str(e)}"
   ]
  },
  {
   "cell_type": "code",
   "execution_count": 30,
   "metadata": {},
   "outputs": [
    {
     "name": "stdout",
     "output_type": "stream",
     "text": [
      "<Response [200]>\n"
     ]
    },
    {
     "data": {
      "text/plain": [
       "{'ip': '142.250.65.174',\n",
       " 'total_ports_open': 2,\n",
       " 'vulnerable_services': [],\n",
       " 'country': 'United States',\n",
       " 'organization': 'Google LLC',\n",
       " 'last_update': '2025-03-04T17:47:37.933234'}"
      ]
     },
     "execution_count": 30,
     "metadata": {},
     "output_type": "execute_result"
    }
   ],
   "source": [
    "shodan_host_analysis(\"google.com\")"
   ]
  },
  {
   "cell_type": "code",
   "execution_count": 32,
   "metadata": {},
   "outputs": [
    {
     "data": {
      "text/plain": [
       "'google.com'"
      ]
     },
     "execution_count": 32,
     "metadata": {},
     "output_type": "execute_result"
    }
   ],
   "source": [
    "url=\"https://google.com\"\n",
    "parsed_url = urlparse(url)\n",
    "domain = parsed_url.netloc\n",
    "domain\n"
   ]
  },
  {
   "cell_type": "code",
   "execution_count": 26,
   "metadata": {},
   "outputs": [],
   "source": [
    "def calculate_risk_score(vt_result: Dict, shodan_result: Dict) -> float:\n",
    "    try:\n",
    "        vt_risk = (\n",
    "            (vt_result.get('malicious_count', 0) * 2 + \n",
    "                vt_result.get('suspicious_count', 0)) / \n",
    "            (vt_result.get('total_engines', 1) / 2)\n",
    "        )\n",
    "        shodan_risk = 0\n",
    "        if shodan_result.get('vulnerable_services'):\n",
    "            shodan_risk += len(shodan_result.get('vulnerable_services', [])) * 0.5\n",
    "        if shodan_result.get('total_ports_open', 0) > 10:\n",
    "            shodan_risk += 1\n",
    "        total_risk = min(max(vt_risk + shodan_risk, 0), 10)\n",
    "        return round(total_risk, 2)\n",
    "    except Exception as e:\n",
    "        logger.error(f\"Risk Score Calculation Error: {e}\")"
   ]
  },
  {
   "cell_type": "code",
   "execution_count": 34,
   "metadata": {},
   "outputs": [
    {
     "name": "stdout",
     "output_type": "stream",
     "text": [
      "aHR0cHM6Ly9nb29nbGUuY29t\n",
      "{'data': {'id': '9d116b1b0c1200ca75016e4c010bc94836366881b021a658ea7f8548b6543c1e', 'type': 'url', 'links': {'self': 'https://www.virustotal.com/api/v3/urls/9d116b1b0c1200ca75016e4c010bc94836366881b021a658ea7f8548b6543c1e'}, 'attributes': {'first_submission_date': 1308916568, 'last_analysis_date': 1741163102, 'last_http_response_content_sha256': '7b1ede2040ba733b09ebf0aeca54e6fd9760989905310cf2ea17f671c4684000', 'tld': 'com', 'last_final_url': 'https://www.google.com/', 'html_meta': {'referrer': ['origin']}, 'outgoing_links': ['https://about.google/?fg=1&utm_source=google-US&utm_medium=referral&utm_campaign=hp-header', 'https://store.google.com/US?utm_source=hp_header&utm_medium=google_ooo&utm_campaign=GS100042&hl=en-US', 'https://mail.google.com/mail/&ogbl', 'https://www.google.com/imghp?hl=en&ogbl', 'https://www.google.com/intl/en/about/products', 'https://accounts.google.com/ServiceLogin?hl=en&passive=true&continue=https://www.google.com/&ec=GAZAmgQ', 'https://www.google.com/intl/en_us/ads/?subid=ww-ww-et-g-awa-a-g_hpafoot1_1!o2&utm_source=google.com&utm_medium=referral&utm_campaign=google_hpafooter&fg=1', 'https://www.google.com/services/?subid=ww-ww-et-g-awa-a-g_hpbfoot1_1!o2&utm_source=google.com&utm_medium=referral&utm_campaign=google_hpbfooter&fg=1', 'https://sustainability.google/?utm_source=googlehpfooter&utm_medium=housepromos&utm_campaign=bottom-footer&utm_content=', 'https://policies.google.com/privacy?hl=en&fg=1', 'https://policies.google.com/terms?hl=en&fg=1', 'https://www.google.com/preferences?hl=en&fg=1', 'https://support.google.com/websearch/?p=ws_results_help&hl=en&fg=1', 'https://apis.google.com/_/scs/abc-static/_/js/k=gapi.gapi.en.uiLLJjqnhCQ.O/m=gapi_iframes,googleapis_client/rt=j/sv=1/d=1/ed=1/rs=AHpOoo8NP2y291iiPDmfAN0GV3dvCuqlYA/cb=gapi.loaded_0', 'https://www.gstatic.com/og/_/js/k=og.qtm.en_US.WcyoQrvsWY0.2019.O/rt=j/m=qabr,q_d,qcwid,qapid,qald,qads,q_dg/exm=qaaw,qadd,qaid,qein,qhaw,qhba,qhbr,qhch,qhga,qhid,qhin/d=1/ed=1/rs=AA2YrTt0d-Ss5kisT1M_8rsOzCdvCZrVWg', 'https://ssl.gstatic.com/gb/images/bar/al-icon.png', 'https://ogs.google.com/widget/callout?prid=19046229&pgid=19046228&puid=2e6b2513ec221596&eom=1&cce=1&dc=1&origin=https%3A%2F%2Fwww.google.com&cn=callout&pid=1&spid=538&hl=en', 'https://apis.google.com', 'https://www.google.com/_/og/promos/', 'https://www.google.com/url?q=https://accounts.google.com/signin/v2/identifier%3Fec%3Dfutura_hpp_co_si_001_p%26continue%3Dhttps%253A%252F%252Fwww.google.com%252F%253Fptid%253D19027681%2526ptt%253D8%2526fpts%253D0', 'https://www.gstatic.com/og/_/js/k=og.qtm.en_US.WcyoQrvsWY0.2019.O/rt=j/m=qabr', 'https://www.gstatic.com/og/_/ss/k=og.qtm.L8bgMGq1rcI.L.W.O/m=qcwid', 'https://ogs.google.com/widget/callout?prid=19046229', 'https://ogs.google.com/widget/app/so?eom=1', 'https://ogs.google.com/widget/callout?eom=1', 'https://ogads-pa.googleapis.com', 'https://www.google.com/search?q%3Dnebulae%26um%3D1%26ie%3DUTF-8%26tbm%3Disch%26csf%3Db', 'https://trends.google.com/hottrends', 'https://artsandculture.google.com/partner/uffizi-gallery', 'https://support.google.com/chrome/?p', 'https://www.google.com', 'http://www.w3.org/2000/svg'], 'last_http_response_code': 200, 'threat_names': [], 'last_submission_date': 1741163102, 'url': 'https://google.com/', 'redirection_chain': ['https://google.com/'], 'tags': ['iframes', 'external-resources'], 'last_modification_date': 1741163131, 'reputation': 210, 'last_http_response_headers': {'cross-origin-opener-policy': 'same-origin-allow-popups; report-to=\"gws\"', 'report-to': '{\"group\":\"gws\",\"max_age\":2592000,\"endpoints\":[{\"url\":\"https://csp.withgoogle.com/csp/report-to/gws/other\"}]}', 'alt-svc': 'h3=\":443\"; ma=2592000,h3-29=\":443\"; ma=2592000', 'cache-control': 'private, max-age=0', 'p3p': 'CP=\"This is not a P3P policy! See g.co/p3phelp for more info.\"', 'strict-transport-security': 'max-age=31536000', 'x-frame-options': 'SAMEORIGIN', 'x-xss-protection': '0', 'accept-ch': 'Sec-CH-Prefers-Color-Scheme\\nDownlink\\nRTT\\nSec-CH-UA-Form-Factors\\nSec-CH-UA-Platform\\nSec-CH-UA-Platform-Version\\nSec-CH-UA-Full-Version\\nSec-CH-UA-Arch\\nSec-CH-UA-Model\\nSec-CH-UA-Bitness\\nSec-CH-UA-Full-Version-List\\nSec-CH-UA-WoW64', 'content-length': '60816', 'content-security-policy-report-only': \"object-src 'none';base-uri 'self';script-src 'nonce-RCcLIoIONsPJLx_c2IzSqQ' 'strict-dynamic' 'report-sample' 'unsafe-eval' 'unsafe-inline' https: http:;report-uri https://csp.withgoogle.com/csp/gws/other-hp\", 'date': 'Wed, 05 Mar 2025 08:25:07 GMT', 'expires': '-1', 'content-encoding': 'br', 'content-type': 'text/html; charset=UTF-8', 'permissions-policy': 'unload=()', 'server': 'gws'}, 'times_submitted': 109402, 'title': 'Google', 'last_http_response_content_length': 200360, 'last_analysis_results': {'Artists Against 419': {'method': 'blacklist', 'engine_name': 'Artists Against 419', 'category': 'harmless', 'result': 'clean'}, 'Acronis': {'method': 'blacklist', 'engine_name': 'Acronis', 'category': 'harmless', 'result': 'clean'}, 'Abusix': {'method': 'blacklist', 'engine_name': 'Abusix', 'category': 'harmless', 'result': 'clean'}, 'ADMINUSLabs': {'method': 'blacklist', 'engine_name': 'ADMINUSLabs', 'category': 'harmless', 'result': 'clean'}, 'Lionic': {'method': 'blacklist', 'engine_name': 'Lionic', 'category': 'harmless', 'result': 'clean'}, 'Criminal IP': {'method': 'blacklist', 'engine_name': 'Criminal IP', 'category': 'harmless', 'result': 'clean'}, 'AILabs (MONITORAPP)': {'method': 'blacklist', 'engine_name': 'AILabs (MONITORAPP)', 'category': 'harmless', 'result': 'clean'}, 'AlienVault': {'method': 'blacklist', 'engine_name': 'AlienVault', 'category': 'harmless', 'result': 'clean'}, 'alphaMountain.ai': {'method': 'blacklist', 'engine_name': 'alphaMountain.ai', 'category': 'harmless', 'result': 'clean'}, 'AlphaSOC': {'method': 'blacklist', 'engine_name': 'AlphaSOC', 'category': 'undetected', 'result': 'unrated'}, 'Antiy-AVL': {'method': 'blacklist', 'engine_name': 'Antiy-AVL', 'category': 'harmless', 'result': 'clean'}, 'ArcSight Threat Intelligence': {'method': 'blacklist', 'engine_name': 'ArcSight Threat Intelligence', 'category': 'undetected', 'result': 'unrated'}, 'AutoShun': {'method': 'blacklist', 'engine_name': 'AutoShun', 'category': 'undetected', 'result': 'unrated'}, 'Axur': {'method': 'blacklist', 'engine_name': 'Axur', 'category': 'undetected', 'result': 'unrated'}, 'benkow.cc': {'method': 'blacklist', 'engine_name': 'benkow.cc', 'category': 'harmless', 'result': 'clean'}, 'Bfore.Ai PreCrime': {'method': 'blacklist', 'engine_name': 'Bfore.Ai PreCrime', 'category': 'harmless', 'result': 'clean'}, 'BitDefender': {'method': 'blacklist', 'engine_name': 'BitDefender', 'category': 'harmless', 'result': 'clean'}, 'Bkav': {'method': 'blacklist', 'engine_name': 'Bkav', 'category': 'undetected', 'result': 'unrated'}, 'BlockList': {'method': 'blacklist', 'engine_name': 'BlockList', 'category': 'harmless', 'result': 'clean'}, 'Blueliv': {'method': 'blacklist', 'engine_name': 'Blueliv', 'category': 'harmless', 'result': 'clean'}, 'Certego': {'method': 'blacklist', 'engine_name': 'Certego', 'category': 'harmless', 'result': 'clean'}, 'Chong Lua Dao': {'method': 'blacklist', 'engine_name': 'Chong Lua Dao', 'category': 'harmless', 'result': 'clean'}, 'CINS Army': {'method': 'blacklist', 'engine_name': 'CINS Army', 'category': 'harmless', 'result': 'clean'}, 'Snort IP sample list': {'method': 'blacklist', 'engine_name': 'Snort IP sample list', 'category': 'harmless', 'result': 'clean'}, 'Cluster25': {'method': 'blacklist', 'engine_name': 'Cluster25', 'category': 'undetected', 'result': 'unrated'}, 'CMC Threat Intelligence': {'method': 'blacklist', 'engine_name': 'CMC Threat Intelligence', 'category': 'harmless', 'result': 'clean'}, 'Xcitium Verdict Cloud': {'method': 'blacklist', 'engine_name': 'Xcitium Verdict Cloud', 'category': 'harmless', 'result': 'clean'}, 'CRDF': {'method': 'blacklist', 'engine_name': 'CRDF', 'category': 'harmless', 'result': 'clean'}, 'CSIS Security Group': {'method': 'blacklist', 'engine_name': 'CSIS Security Group', 'category': 'undetected', 'result': 'unrated'}, 'Cyan': {'method': 'blacklist', 'engine_name': 'Cyan', 'category': 'undetected', 'result': 'unrated'}, 'Cyble': {'method': 'blacklist', 'engine_name': 'Cyble', 'category': 'harmless', 'result': 'clean'}, 'CyRadar': {'method': 'blacklist', 'engine_name': 'CyRadar', 'category': 'harmless', 'result': 'clean'}, 'desenmascara.me': {'method': 'blacklist', 'engine_name': 'desenmascara.me', 'category': 'harmless', 'result': 'clean'}, 'DNS8': {'method': 'blacklist', 'engine_name': 'DNS8', 'category': 'harmless', 'result': 'clean'}, 'Dr.Web': {'method': 'blacklist', 'engine_name': 'Dr.Web', 'category': 'harmless', 'result': 'clean'}, 'Emsisoft': {'method': 'blacklist', 'engine_name': 'Emsisoft', 'category': 'harmless', 'result': 'clean'}, 'Ermes': {'method': 'blacklist', 'engine_name': 'Ermes', 'category': 'undetected', 'result': 'unrated'}, 'ESET': {'method': 'blacklist', 'engine_name': 'ESET', 'category': 'harmless', 'result': 'clean'}, 'ESTsecurity': {'method': 'blacklist', 'engine_name': 'ESTsecurity', 'category': 'harmless', 'result': 'clean'}, 'EmergingThreats': {'method': 'blacklist', 'engine_name': 'EmergingThreats', 'category': 'harmless', 'result': 'clean'}, 'Feodo Tracker': {'method': 'blacklist', 'engine_name': 'Feodo Tracker', 'category': 'harmless', 'result': 'clean'}, 'Fortinet': {'method': 'blacklist', 'engine_name': 'Fortinet', 'category': 'harmless', 'result': 'clean'}, 'G-Data': {'method': 'blacklist', 'engine_name': 'G-Data', 'category': 'harmless', 'result': 'clean'}, 'Google Safebrowsing': {'method': 'blacklist', 'engine_name': 'Google Safebrowsing', 'category': 'harmless', 'result': 'clean'}, 'GCP Abuse Intelligence': {'method': 'blacklist', 'engine_name': 'GCP Abuse Intelligence', 'category': 'undetected', 'result': 'unrated'}, 'GreenSnow': {'method': 'blacklist', 'engine_name': 'GreenSnow', 'category': 'harmless', 'result': 'clean'}, 'Gridinsoft': {'method': 'blacklist', 'engine_name': 'Gridinsoft', 'category': 'undetected', 'result': 'unrated'}, 'Heimdal Security': {'method': 'blacklist', 'engine_name': 'Heimdal Security', 'category': 'harmless', 'result': 'clean'}, 'Hunt.io Intelligence': {'method': 'blacklist', 'engine_name': 'Hunt.io Intelligence', 'category': 'undetected', 'result': 'unrated'}, 'IPsum': {'method': 'blacklist', 'engine_name': 'IPsum', 'category': 'harmless', 'result': 'clean'}, 'Juniper Networks': {'method': 'blacklist', 'engine_name': 'Juniper Networks', 'category': 'harmless', 'result': 'clean'}, 'Kaspersky': {'method': 'blacklist', 'engine_name': 'Kaspersky', 'category': 'harmless', 'result': 'clean'}, 'Lumu': {'method': 'blacklist', 'engine_name': 'Lumu', 'category': 'undetected', 'result': 'unrated'}, 'Malwared': {'method': 'blacklist', 'engine_name': 'Malwared', 'category': 'harmless', 'result': 'clean'}, 'MalwareURL': {'method': 'blacklist', 'engine_name': 'MalwareURL', 'category': 'undetected', 'result': 'unrated'}, 'MalwarePatrol': {'method': 'blacklist', 'engine_name': 'MalwarePatrol', 'category': 'harmless', 'result': 'clean'}, 'malwares.com URL checker': {'method': 'blacklist', 'engine_name': 'malwares.com URL checker', 'category': 'harmless', 'result': 'clean'}, 'Netcraft': {'method': 'blacklist', 'engine_name': 'Netcraft', 'category': 'undetected', 'result': 'unrated'}, 'OpenPhish': {'method': 'blacklist', 'engine_name': 'OpenPhish', 'category': 'harmless', 'result': 'clean'}, '0xSI_f33d': {'method': 'blacklist', 'engine_name': '0xSI_f33d', 'category': 'undetected', 'result': 'unrated'}, 'Phishing Database': {'method': 'blacklist', 'engine_name': 'Phishing Database', 'category': 'harmless', 'result': 'clean'}, 'PhishFort': {'method': 'blacklist', 'engine_name': 'PhishFort', 'category': 'undetected', 'result': 'unrated'}, 'PhishLabs': {'method': 'blacklist', 'engine_name': 'PhishLabs', 'category': 'undetected', 'result': 'unrated'}, 'Phishtank': {'method': 'blacklist', 'engine_name': 'Phishtank', 'category': 'harmless', 'result': 'clean'}, 'PREBYTES': {'method': 'blacklist', 'engine_name': 'PREBYTES', 'category': 'harmless', 'result': 'clean'}, 'PrecisionSec': {'method': 'blacklist', 'engine_name': 'PrecisionSec', 'category': 'undetected', 'result': 'unrated'}, 'Quick Heal': {'method': 'blacklist', 'engine_name': 'Quick Heal', 'category': 'harmless', 'result': 'clean'}, 'Quttera': {'method': 'blacklist', 'engine_name': 'Quttera', 'category': 'harmless', 'result': 'clean'}, 'Rising': {'method': 'blacklist', 'engine_name': 'Rising', 'category': 'harmless', 'result': 'clean'}, 'SafeToOpen': {'method': 'blacklist', 'engine_name': 'SafeToOpen', 'category': 'undetected', 'result': 'unrated'}, 'Sangfor': {'method': 'blacklist', 'engine_name': 'Sangfor', 'category': 'harmless', 'result': 'clean'}, 'Sansec eComscan': {'method': 'blacklist', 'engine_name': 'Sansec eComscan', 'category': 'undetected', 'result': 'unrated'}, 'Scantitan': {'method': 'blacklist', 'engine_name': 'Scantitan', 'category': 'harmless', 'result': 'clean'}, 'SCUMWARE.org': {'method': 'blacklist', 'engine_name': 'SCUMWARE.org', 'category': 'harmless', 'result': 'clean'}, 'Seclookup': {'method': 'blacklist', 'engine_name': 'Seclookup', 'category': 'harmless', 'result': 'clean'}, 'SOCRadar': {'method': 'blacklist', 'engine_name': 'SOCRadar', 'category': 'harmless', 'result': 'clean'}, 'Sophos': {'method': 'blacklist', 'engine_name': 'Sophos', 'category': 'harmless', 'result': 'clean'}, 'Spam404': {'method': 'blacklist', 'engine_name': 'Spam404', 'category': 'harmless', 'result': 'clean'}, 'StopForumSpam': {'method': 'blacklist', 'engine_name': 'StopForumSpam', 'category': 'harmless', 'result': 'clean'}, 'Sucuri SiteCheck': {'method': 'blacklist', 'engine_name': 'Sucuri SiteCheck', 'category': 'harmless', 'result': 'clean'}, 'securolytics': {'method': 'blacklist', 'engine_name': 'securolytics', 'category': 'harmless', 'result': 'clean'}, 'Threatsourcing': {'method': 'blacklist', 'engine_name': 'Threatsourcing', 'category': 'harmless', 'result': 'clean'}, 'ThreatHive': {'method': 'blacklist', 'engine_name': 'ThreatHive', 'category': 'harmless', 'result': 'clean'}, 'Trustwave': {'method': 'blacklist', 'engine_name': 'Trustwave', 'category': 'harmless', 'result': 'clean'}, 'Underworld': {'method': 'blacklist', 'engine_name': 'Underworld', 'category': 'undetected', 'result': 'unrated'}, 'URLhaus': {'method': 'blacklist', 'engine_name': 'URLhaus', 'category': 'harmless', 'result': 'clean'}, 'URLQuery': {'method': 'blacklist', 'engine_name': 'URLQuery', 'category': 'harmless', 'result': 'clean'}, 'Viettel Threat Intelligence': {'method': 'blacklist', 'engine_name': 'Viettel Threat Intelligence', 'category': 'harmless', 'result': 'clean'}, 'VIPRE': {'method': 'blacklist', 'engine_name': 'VIPRE', 'category': 'undetected', 'result': 'unrated'}, 'ViriBack': {'method': 'blacklist', 'engine_name': 'ViriBack', 'category': 'harmless', 'result': 'clean'}, 'VX Vault': {'method': 'blacklist', 'engine_name': 'VX Vault', 'category': 'harmless', 'result': 'clean'}, 'Webroot': {'method': 'blacklist', 'engine_name': 'Webroot', 'category': 'harmless', 'result': 'clean'}, 'Forcepoint ThreatSeeker': {'method': 'blacklist', 'engine_name': 'Forcepoint ThreatSeeker', 'category': 'harmless', 'result': 'clean'}, 'Yandex Safebrowsing': {'method': 'blacklist', 'engine_name': 'Yandex Safebrowsing', 'category': 'harmless', 'result': 'clean'}, 'ZeroCERT': {'method': 'blacklist', 'engine_name': 'ZeroCERT', 'category': 'harmless', 'result': 'clean'}, 'ZeroFox': {'method': 'blacklist', 'engine_name': 'ZeroFox', 'category': 'undetected', 'result': 'unrated'}}, 'total_votes': {'harmless': 84, 'malicious': 29}, 'last_analysis_stats': {'malicious': 0, 'suspicious': 0, 'undetected': 24, 'harmless': 72, 'timeout': 0}, 'categories': {'alphaMountain.ai': 'Search Engines/Portals (alphaMountain.ai)', 'BitDefender': 'searchengines', 'Sophos': 'search engines', 'Forcepoint ThreatSeeker': 'search engines and portals'}}}}\n",
      "<Response [200]>\n",
      "{'malicious_count': 0, 'suspicious_count': 0, 'harmless_count': 0, 'undetected_count': 0}\n",
      "{'ip': '142.250.65.174', 'total_ports_open': 2, 'vulnerable_services': [], 'country': 'United States', 'organization': 'Google LLC', 'last_update': '2025-03-04T17:47:37.933234'}\n"
     ]
    },
    {
     "data": {
      "text/plain": [
       "0.0"
      ]
     },
     "execution_count": 34,
     "metadata": {},
     "output_type": "execute_result"
    }
   ],
   "source": [
    "url=\"https://google.com\"\n",
    "parsed_url = urlparse(url)\n",
    "domain = parsed_url.netloc\n",
    "vt_result=collect_virustotal_threats(url)\n",
    "shodan_result=shodan_host_analysis(domain)\n",
    "print(vt_result)\n",
    "print(shodan_result)\n",
    "calculate_risk_score(vt_result,shodan_result)"
   ]
  },
  {
   "cell_type": "code",
   "execution_count": 35,
   "metadata": {},
   "outputs": [],
   "source": [
    "combined_result = {\n",
    "                'url': url,\n",
    "                'domain': domain,\n",
    "                'virustotal': vt_result,\n",
    "                'shodan': shodan_result,\n",
    "                'overall_risk_score': calculate_risk_score(vt_result, shodan_result)\n",
    "            }"
   ]
  },
  {
   "cell_type": "code",
   "execution_count": null,
   "metadata": {},
   "outputs": [],
   "source": [
    "from mongoengine import Document, StringField, DateTimeField, ListField, FloatField\n",
    "from datetime import datetime\n",
    "\n",
    "class ThreatIntelligence(Document):\n",
    "    source = StringField(required=True)\n",
    "    threat_type = StringField(required=True)\n",
    "    severity = FloatField(required=True)\n",
    "    indicators = ListField(StringField())\n",
    "    description = StringField()\n",
    "    timestamp = DateTimeField(default=datetime.utcnow)\n",
    "    \n",
    "    meta = {\n",
    "        'collection': 'threat_intelligence',\n",
    "        'indexes': [\n",
    "            'source',\n",
    "            'threat_type',\n",
    "            '-timestamp'\n",
    "        ]\n",
    "    }"
   ]
  },
  {
   "cell_type": "code",
   "execution_count": 40,
   "metadata": {},
   "outputs": [],
   "source": [
    "def save_url_threat(threat_data: Dict):\n",
    "    try:\n",
    "        threat = ThreatIntelligence(\n",
    "            source='URL Analysis',\n",
    "            threat_type='Web Threat',\n",
    "            severity=threat_data.get('overall_risk_score', 0),\n",
    "            indicators=[\n",
    "                threat_data.get('url', ''),\n",
    "                threat_data.get('domain', '')\n",
    "            ],\n",
    "            description=f\"VirusTotal: {threat_data.get('virustotal', {})} | \" \n",
    "                        f\"Shodan: {threat_data.get('shodan', {})}\"\n",
    "        )\n",
    "        threat.save()\n",
    "    except Exception as e:\n",
    "        logger.error(f\"Threat Saving Error: {e}\")"
   ]
  },
  {
   "cell_type": "code",
   "execution_count": 41,
   "metadata": {},
   "outputs": [
    {
     "name": "stderr",
     "output_type": "stream",
     "text": [
      "Threat Saving Error: You have not defined a default connection\n"
     ]
    }
   ],
   "source": [
    "save_url_threat(combined_result)"
   ]
  }
 ],
 "metadata": {
  "kernelspec": {
   "display_name": "osint",
   "language": "python",
   "name": "python3"
  },
  "language_info": {
   "codemirror_mode": {
    "name": "ipython",
    "version": 3
   },
   "file_extension": ".py",
   "mimetype": "text/x-python",
   "name": "python",
   "nbconvert_exporter": "python",
   "pygments_lexer": "ipython3",
   "version": "3.13.2"
  }
 },
 "nbformat": 4,
 "nbformat_minor": 2
}

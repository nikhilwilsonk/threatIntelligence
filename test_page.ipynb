{
 "cells": [
  {
   "cell_type": "code",
   "execution_count": 10,
   "metadata": {},
   "outputs": [],
   "source": [
    "import os\n",
    "from dotenv import load_dotenv\n",
    "load_dotenv()\n",
    "import requests\n",
    "import logging\n",
    "from typing import List, Dict\n",
    "import base64"
   ]
  },
  {
   "cell_type": "code",
   "execution_count": 11,
   "metadata": {},
   "outputs": [],
   "source": [
    "VIRUSTOTAL_API_KEY = os.getenv('VIRUSTOTAL_API_KEY')\n",
    "logger = logging.getLogger(__name__)"
   ]
  },
  {
   "cell_type": "code",
   "execution_count": null,
   "metadata": {},
   "outputs": [],
   "source": [
    "def collect_virustotal_threats(url:str) -> List[Dict]:\n",
    "    try:\n",
    "        url_encode=base64.urlsafe_b64encode(url.encode()).decode().strip('=')\n",
    "        headers = {\n",
    "            'x-apikey': VIRUSTOTAL_API_KEY\n",
    "        }\n",
    "        url_id = requests.get(\n",
    "            f'https://www.virustotal.com/api/v3/urls/{url_encode}',\n",
    "            headers=headers\n",
    "        ).json()\n",
    "        analysis_response = requests.get(\n",
    "            f'https://www.virustotal.com/api/v3/analyses/{url_id[\"data\"][\"id\"]}',\n",
    "            headers=headers\n",
    "        ).json()\n",
    "        return {\n",
    "            'malicious_count': analysis_response.get('malicious', 0),\n",
    "            'suspicious_count': analysis_response.get('suspicious', 0),\n",
    "            'harmless_count': analysis_response.get('harmless', 0),\n",
    "            'undetected_count': analysis_response.get('undetected', 0)\n",
    "        }\n",
    "    \n",
    "    except Exception as e:\n",
    "        logger.error(f\"VirusTotal Analysis Error: {e}\")\n",
    "        return {'error': str(e)}"
   ]
  },
  {
   "cell_type": "code",
   "execution_count": 16,
   "metadata": {},
   "outputs": [
    {
     "name": "stdout",
     "output_type": "stream",
     "text": [
      "aHR0cHM6Ly9leGFtcGxlLmNvbQ\n",
      "{'data': {'id': '0f115db062b7c0dd030b16878c99dea5c354b49dc37b38eb8846179c7783e9d7', 'type': 'url', 'links': {'self': 'https://www.virustotal.com/api/v3/urls/0f115db062b7c0dd030b16878c99dea5c354b49dc37b38eb8846179c7783e9d7'}, 'attributes': {'last_http_response_content_sha256': 'ea8fac7c65fb589b0d53560f5251f74f9e9b243478dcb6b3ea79b5e36449c8d9', 'url': 'https://example.com/', 'redirection_chain': ['https://example.com/'], 'threat_names': [], 'targeted_brand': {'SafeToOpen': ''}, 'last_http_response_code': 200, 'total_votes': {'harmless': 13, 'malicious': 2}, 'crowdsourced_context': [{'source': 'ArcSight Threat Intelligence', 'timestamp': 1692891969, 'details': \"Contextual Indicators: The domain’s Cisco Umbrella rank is 8898\\n\\nContextual Indicators: The URL is known benign by Check Point's Threat Cloud\\n\\nContextual Indicators: The domain is popular among websites with good reputation\\n\\nContextual Indicators: The domain is popular in the world\\n\\nCreated On: 1995:08:14 04:00:00\\n\\nVirusTotal Link: https://www.virustotal.com/gui/domain/a379a6f6eeafb9a55e378c118034e2751e682fab9f2d30ab13d2125586ce1947/detection\\n\\nClassification Description: Legitimate website which does not serve any malicious purpose.\", 'severity': 'low', 'title': 'Backdoor via XFF – Mysterious Threat Actor Under Radar'}], 'last_analysis_date': 1741160694, 'reputation': 42, 'tld': 'com', 'tags': [], 'last_http_response_headers': {'Accept-Ranges': 'bytes', 'Content-Type': 'text/html', 'ETag': '\"84238dfc8092e5d9c0dac8ef93371a07:1736799080.121134\"', 'Last-Modified': 'Mon, 13 Jan 2025 20:11:20 GMT', 'Vary': 'Accept-Encoding', 'Content-Length': '1256', 'Cache-Control': 'max-age=665', 'Date': 'Wed, 05 Mar 2025 07:44:56 GMT', 'Alt-Svc': 'h3=\":443\"; ma=93600,h3-29=\":443\"; ma=93600,quic=\":443\"; ma=93600; v=\"43\"', 'Connection': 'keep-alive'}, 'last_modification_date': 1741160743, 'outgoing_links': ['https://www.iana.org/domains/example'], 'times_submitted': 11416, 'html_meta': {'viewport': ['width=device-width, initial-scale=1']}, 'last_final_url': 'https://example.com/', 'last_analysis_results': {'Artists Against 419': {'method': 'blacklist', 'engine_name': 'Artists Against 419', 'category': 'harmless', 'result': 'clean'}, 'Acronis': {'method': 'blacklist', 'engine_name': 'Acronis', 'category': 'harmless', 'result': 'clean'}, 'Abusix': {'method': 'blacklist', 'engine_name': 'Abusix', 'category': 'harmless', 'result': 'clean'}, 'ADMINUSLabs': {'method': 'blacklist', 'engine_name': 'ADMINUSLabs', 'category': 'harmless', 'result': 'clean'}, 'Lionic': {'method': 'blacklist', 'engine_name': 'Lionic', 'category': 'harmless', 'result': 'clean'}, 'Criminal IP': {'method': 'blacklist', 'engine_name': 'Criminal IP', 'category': 'harmless', 'result': 'clean'}, 'AILabs (MONITORAPP)': {'method': 'blacklist', 'engine_name': 'AILabs (MONITORAPP)', 'category': 'harmless', 'result': 'clean'}, 'AlienVault': {'method': 'blacklist', 'engine_name': 'AlienVault', 'category': 'harmless', 'result': 'clean'}, 'alphaMountain.ai': {'method': 'blacklist', 'engine_name': 'alphaMountain.ai', 'category': 'harmless', 'result': 'clean'}, 'AlphaSOC': {'method': 'blacklist', 'engine_name': 'AlphaSOC', 'category': 'undetected', 'result': 'unrated'}, 'Antiy-AVL': {'method': 'blacklist', 'engine_name': 'Antiy-AVL', 'category': 'harmless', 'result': 'clean'}, 'ArcSight Threat Intelligence': {'method': 'blacklist', 'engine_name': 'ArcSight Threat Intelligence', 'category': 'undetected', 'result': 'unrated'}, 'AutoShun': {'method': 'blacklist', 'engine_name': 'AutoShun', 'category': 'undetected', 'result': 'unrated'}, 'Axur': {'method': 'blacklist', 'engine_name': 'Axur', 'category': 'undetected', 'result': 'unrated'}, 'benkow.cc': {'method': 'blacklist', 'engine_name': 'benkow.cc', 'category': 'harmless', 'result': 'clean'}, 'Bfore.Ai PreCrime': {'method': 'blacklist', 'engine_name': 'Bfore.Ai PreCrime', 'category': 'undetected', 'result': 'unrated'}, 'BitDefender': {'method': 'blacklist', 'engine_name': 'BitDefender', 'category': 'harmless', 'result': 'clean'}, 'Bkav': {'method': 'blacklist', 'engine_name': 'Bkav', 'category': 'undetected', 'result': 'unrated'}, 'BlockList': {'method': 'blacklist', 'engine_name': 'BlockList', 'category': 'harmless', 'result': 'clean'}, 'Blueliv': {'method': 'blacklist', 'engine_name': 'Blueliv', 'category': 'harmless', 'result': 'clean'}, 'Certego': {'method': 'blacklist', 'engine_name': 'Certego', 'category': 'harmless', 'result': 'clean'}, 'Chong Lua Dao': {'method': 'blacklist', 'engine_name': 'Chong Lua Dao', 'category': 'harmless', 'result': 'clean'}, 'CINS Army': {'method': 'blacklist', 'engine_name': 'CINS Army', 'category': 'harmless', 'result': 'clean'}, 'Snort IP sample list': {'method': 'blacklist', 'engine_name': 'Snort IP sample list', 'category': 'harmless', 'result': 'clean'}, 'Cluster25': {'method': 'blacklist', 'engine_name': 'Cluster25', 'category': 'undetected', 'result': 'unrated'}, 'CMC Threat Intelligence': {'method': 'blacklist', 'engine_name': 'CMC Threat Intelligence', 'category': 'harmless', 'result': 'clean'}, 'Xcitium Verdict Cloud': {'method': 'blacklist', 'engine_name': 'Xcitium Verdict Cloud', 'category': 'harmless', 'result': 'clean'}, 'CRDF': {'method': 'blacklist', 'engine_name': 'CRDF', 'category': 'harmless', 'result': 'clean'}, 'CSIS Security Group': {'method': 'blacklist', 'engine_name': 'CSIS Security Group', 'category': 'undetected', 'result': 'unrated'}, 'Cyan': {'method': 'blacklist', 'engine_name': 'Cyan', 'category': 'undetected', 'result': 'unrated'}, 'Cyble': {'method': 'blacklist', 'engine_name': 'Cyble', 'category': 'harmless', 'result': 'clean'}, 'CyRadar': {'method': 'blacklist', 'engine_name': 'CyRadar', 'category': 'harmless', 'result': 'clean'}, 'desenmascara.me': {'method': 'blacklist', 'engine_name': 'desenmascara.me', 'category': 'harmless', 'result': 'clean'}, 'DNS8': {'method': 'blacklist', 'engine_name': 'DNS8', 'category': 'harmless', 'result': 'clean'}, 'Dr.Web': {'method': 'blacklist', 'engine_name': 'Dr.Web', 'category': 'harmless', 'result': 'clean'}, 'Emsisoft': {'method': 'blacklist', 'engine_name': 'Emsisoft', 'category': 'harmless', 'result': 'clean'}, 'Ermes': {'method': 'blacklist', 'engine_name': 'Ermes', 'category': 'undetected', 'result': 'unrated'}, 'ESET': {'method': 'blacklist', 'engine_name': 'ESET', 'category': 'harmless', 'result': 'clean'}, 'ESTsecurity': {'method': 'blacklist', 'engine_name': 'ESTsecurity', 'category': 'harmless', 'result': 'clean'}, 'EmergingThreats': {'method': 'blacklist', 'engine_name': 'EmergingThreats', 'category': 'harmless', 'result': 'clean'}, 'Feodo Tracker': {'method': 'blacklist', 'engine_name': 'Feodo Tracker', 'category': 'harmless', 'result': 'clean'}, 'Fortinet': {'method': 'blacklist', 'engine_name': 'Fortinet', 'category': 'harmless', 'result': 'clean'}, 'G-Data': {'method': 'blacklist', 'engine_name': 'G-Data', 'category': 'harmless', 'result': 'clean'}, 'Google Safebrowsing': {'method': 'blacklist', 'engine_name': 'Google Safebrowsing', 'category': 'harmless', 'result': 'clean'}, 'GCP Abuse Intelligence': {'method': 'blacklist', 'engine_name': 'GCP Abuse Intelligence', 'category': 'undetected', 'result': 'unrated'}, 'GreenSnow': {'method': 'blacklist', 'engine_name': 'GreenSnow', 'category': 'harmless', 'result': 'clean'}, 'Gridinsoft': {'method': 'blacklist', 'engine_name': 'Gridinsoft', 'category': 'undetected', 'result': 'unrated'}, 'Heimdal Security': {'method': 'blacklist', 'engine_name': 'Heimdal Security', 'category': 'harmless', 'result': 'clean'}, 'Hunt.io Intelligence': {'method': 'blacklist', 'engine_name': 'Hunt.io Intelligence', 'category': 'undetected', 'result': 'unrated'}, 'IPsum': {'method': 'blacklist', 'engine_name': 'IPsum', 'category': 'harmless', 'result': 'clean'}, 'Juniper Networks': {'method': 'blacklist', 'engine_name': 'Juniper Networks', 'category': 'harmless', 'result': 'clean'}, 'Kaspersky': {'method': 'blacklist', 'engine_name': 'Kaspersky', 'category': 'harmless', 'result': 'clean'}, 'Lumu': {'method': 'blacklist', 'engine_name': 'Lumu', 'category': 'undetected', 'result': 'unrated'}, 'Malwared': {'method': 'blacklist', 'engine_name': 'Malwared', 'category': 'harmless', 'result': 'clean'}, 'MalwareURL': {'method': 'blacklist', 'engine_name': 'MalwareURL', 'category': 'undetected', 'result': 'unrated'}, 'MalwarePatrol': {'method': 'blacklist', 'engine_name': 'MalwarePatrol', 'category': 'harmless', 'result': 'clean'}, 'malwares.com URL checker': {'method': 'blacklist', 'engine_name': 'malwares.com URL checker', 'category': 'harmless', 'result': 'clean'}, 'Netcraft': {'method': 'blacklist', 'engine_name': 'Netcraft', 'category': 'undetected', 'result': 'unrated'}, 'OpenPhish': {'method': 'blacklist', 'engine_name': 'OpenPhish', 'category': 'harmless', 'result': 'clean'}, '0xSI_f33d': {'method': 'blacklist', 'engine_name': '0xSI_f33d', 'category': 'undetected', 'result': 'unrated'}, 'Phishing Database': {'method': 'blacklist', 'engine_name': 'Phishing Database', 'category': 'harmless', 'result': 'clean'}, 'PhishFort': {'method': 'blacklist', 'engine_name': 'PhishFort', 'category': 'undetected', 'result': 'unrated'}, 'PhishLabs': {'method': 'blacklist', 'engine_name': 'PhishLabs', 'category': 'undetected', 'result': 'unrated'}, 'Phishtank': {'method': 'blacklist', 'engine_name': 'Phishtank', 'category': 'harmless', 'result': 'clean'}, 'PREBYTES': {'method': 'blacklist', 'engine_name': 'PREBYTES', 'category': 'harmless', 'result': 'clean'}, 'PrecisionSec': {'method': 'blacklist', 'engine_name': 'PrecisionSec', 'category': 'undetected', 'result': 'unrated'}, 'Quick Heal': {'method': 'blacklist', 'engine_name': 'Quick Heal', 'category': 'harmless', 'result': 'clean'}, 'Quttera': {'method': 'blacklist', 'engine_name': 'Quttera', 'category': 'harmless', 'result': 'clean'}, 'Rising': {'method': 'blacklist', 'engine_name': 'Rising', 'category': 'harmless', 'result': 'clean'}, 'SafeToOpen': {'method': 'blacklist', 'engine_name': 'SafeToOpen', 'category': 'undetected', 'result': 'unrated'}, 'Sangfor': {'method': 'blacklist', 'engine_name': 'Sangfor', 'category': 'harmless', 'result': 'clean'}, 'Sansec eComscan': {'method': 'blacklist', 'engine_name': 'Sansec eComscan', 'category': 'undetected', 'result': 'unrated'}, 'Scantitan': {'method': 'blacklist', 'engine_name': 'Scantitan', 'category': 'harmless', 'result': 'clean'}, 'SCUMWARE.org': {'method': 'blacklist', 'engine_name': 'SCUMWARE.org', 'category': 'harmless', 'result': 'clean'}, 'Seclookup': {'method': 'blacklist', 'engine_name': 'Seclookup', 'category': 'harmless', 'result': 'clean'}, 'SOCRadar': {'method': 'blacklist', 'engine_name': 'SOCRadar', 'category': 'harmless', 'result': 'clean'}, 'Sophos': {'method': 'blacklist', 'engine_name': 'Sophos', 'category': 'harmless', 'result': 'clean'}, 'Spam404': {'method': 'blacklist', 'engine_name': 'Spam404', 'category': 'harmless', 'result': 'clean'}, 'StopForumSpam': {'method': 'blacklist', 'engine_name': 'StopForumSpam', 'category': 'harmless', 'result': 'clean'}, 'Sucuri SiteCheck': {'method': 'blacklist', 'engine_name': 'Sucuri SiteCheck', 'category': 'harmless', 'result': 'clean'}, 'securolytics': {'method': 'blacklist', 'engine_name': 'securolytics', 'category': 'harmless', 'result': 'clean'}, 'Threatsourcing': {'method': 'blacklist', 'engine_name': 'Threatsourcing', 'category': 'harmless', 'result': 'clean'}, 'ThreatHive': {'method': 'blacklist', 'engine_name': 'ThreatHive', 'category': 'harmless', 'result': 'clean'}, 'Trustwave': {'method': 'blacklist', 'engine_name': 'Trustwave', 'category': 'harmless', 'result': 'clean'}, 'Underworld': {'method': 'blacklist', 'engine_name': 'Underworld', 'category': 'undetected', 'result': 'unrated'}, 'URLhaus': {'method': 'blacklist', 'engine_name': 'URLhaus', 'category': 'harmless', 'result': 'clean'}, 'URLQuery': {'method': 'blacklist', 'engine_name': 'URLQuery', 'category': 'harmless', 'result': 'clean'}, 'Viettel Threat Intelligence': {'method': 'blacklist', 'engine_name': 'Viettel Threat Intelligence', 'category': 'harmless', 'result': 'clean'}, 'VIPRE': {'method': 'blacklist', 'engine_name': 'VIPRE', 'category': 'undetected', 'result': 'unrated'}, 'ViriBack': {'method': 'blacklist', 'engine_name': 'ViriBack', 'category': 'harmless', 'result': 'clean'}, 'VX Vault': {'method': 'blacklist', 'engine_name': 'VX Vault', 'category': 'harmless', 'result': 'clean'}, 'Webroot': {'method': 'blacklist', 'engine_name': 'Webroot', 'category': 'harmless', 'result': 'clean'}, 'Forcepoint ThreatSeeker': {'method': 'blacklist', 'engine_name': 'Forcepoint ThreatSeeker', 'category': 'harmless', 'result': 'clean'}, 'Yandex Safebrowsing': {'method': 'blacklist', 'engine_name': 'Yandex Safebrowsing', 'category': 'harmless', 'result': 'clean'}, 'ZeroCERT': {'method': 'blacklist', 'engine_name': 'ZeroCERT', 'category': 'harmless', 'result': 'clean'}, 'ZeroFox': {'method': 'blacklist', 'engine_name': 'ZeroFox', 'category': 'undetected', 'result': 'unrated'}}, 'last_http_response_content_length': 1256, 'last_submission_date': 1741160694, 'categories': {'alphaMountain.ai': 'Information Technology, Parked Site (alphaMountain.ai)', 'BitDefender': 'computersandsoftware', 'Sophos': 'information technology', 'Forcepoint ThreatSeeker': 'information technology'}, 'title': 'Example Domain', 'last_analysis_stats': {'malicious': 0, 'suspicious': 0, 'undetected': 25, 'harmless': 71, 'timeout': 0}, 'first_submission_date': 1334845943}}}\n"
     ]
    },
    {
     "data": {
      "text/plain": [
       "{'malicious_count': 0,\n",
       " 'suspicious_count': 0,\n",
       " 'harmless_count': 0,\n",
       " 'undetected_count': 0}"
      ]
     },
     "execution_count": 16,
     "metadata": {},
     "output_type": "execute_result"
    }
   ],
   "source": [
    "collect_virustotal_threats(\"https://example.com\")"
   ]
  },
  {
   "cell_type": "code",
   "execution_count": null,
   "metadata": {},
   "outputs": [],
   "source": []
  }
 ],
 "metadata": {
  "kernelspec": {
   "display_name": "osint",
   "language": "python",
   "name": "python3"
  },
  "language_info": {
   "codemirror_mode": {
    "name": "ipython",
    "version": 3
   },
   "file_extension": ".py",
   "mimetype": "text/x-python",
   "name": "python",
   "nbconvert_exporter": "python",
   "pygments_lexer": "ipython3",
   "version": "3.13.2"
  }
 },
 "nbformat": 4,
 "nbformat_minor": 2
}
